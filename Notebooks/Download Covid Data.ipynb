{
 "cells": [
  {
   "cell_type": "code",
   "execution_count": 1,
   "metadata": {},
   "outputs": [
    {
     "name": "stdout",
     "output_type": "stream",
     "text": [
      "COVID-19 Hospitalizations Summary_ALL 7-16-2020.pdf\n",
      "COVID-19 Deaths by Demographics 7-16-2020.pdf\n",
      "COVID-19 Percentage Positive 7-16-2020.pdf\n",
      "COVID-19 Daily Update_City of Residence 7-16-2020.pdf\n",
      "COVID-19 Race and Ethnicity Summary 7-16-2020.pdf\n",
      "COVID-19 Summary of Cases by Zip Code 7-16-2020.pdf\n",
      "COVID-19_Daily_Status_Update 7-16-2020.pdf\n",
      "COVID-19 Cases by Date of Illness Onset 7-16-2020.pdf\n",
      "COVID-19 Hospitalizations by Date Admitted 7-16-2020.pdf\n",
      "COVID-19 Deaths by Date of Death 7-16-2020.pdf\n",
      "COVID-19 City of Residence_MAP 7-16-2020.pdf\n"
     ]
    }
   ],
   "source": [
    "import requests\n",
    "from urllib.parse import unquote\n",
    "import datetime\n",
    "\n",
    "base_url = 'https://www.sandiegocounty.gov/content/dam/sdc/hhsa/programs/phs/Epidemiology/'\n",
    "\n",
    "download_files = {'COVID-19%20Hospitalizations%20Summary_ALL.pdf' : 'C:/Data/SDCovid/Hospitalizations/', \n",
    "                  'COVID-19%20Deaths%20by%20Demographics.pdf' : 'C:/Data/SDCovid/Deaths/',\n",
    "                  'COVID-19%20Percentage%20Positive.pdf' : 'C:/Data/SDCovid/Charts/',\n",
    "                  'COVID-19%20Daily%20Update_City%20of%20Residence.pdf' : 'C:/Data/SDCovid/CityofResidence/',\n",
    "                  'COVID-19%20Race%20and%20Ethnicity%20Summary.pdf' : 'C:/Data/SDCovid/RaceEthnicity/',\n",
    "                  'COVID-19%20Summary%20of%20Cases%20by%20Zip%20Code.pdf' : 'C:/Data/SDCovid/ZipCode/',\n",
    "                  'COVID-19_Daily_Status_Update.pdf': 'C:/Data/SDCovid/Charts/',\n",
    "                  'COVID-19%20Cases%20by%20Date%20of%20Illness%20Onset.pdf': 'C:/Data/SDCovid/Charts/',\n",
    "                  'COVID-19%20Hospitalizations%20by%20Date%20Admitted.pdf' : 'C:/Data/SDCovid/Charts/',\n",
    "                  'COVID-19%20Deaths%20by%20Date%20of%20Death.pdf' : 'C:/Data/SDCovid/Charts/',\n",
    "                  'COVID-19%20City%20of%20Residence_MAP.pdf': 'C:/Data/SDCovid/Maps/'}\n",
    "\n",
    "datestr = ' {dt.month}-{dt.day}-{dt.year}'.format(dt = datetime.datetime.today())\n",
    "\n",
    "file_names = download_files.keys()\n",
    "for file_name in file_names:\n",
    "    sdcountycovid_url = base_url + file_name\n",
    "    covid_file = requests.get(sdcountycovid_url)\n",
    "    plain_name = unquote(file_name).split('.')[0]\n",
    "    plain_name = plain_name + datestr + '.pdf'\n",
    "    print(plain_name)\n",
    "    folder_name = download_files[file_name]\n",
    "    open(folder_name + plain_name, 'wb').write(covid_file.content)"
   ]
  },
  {
   "cell_type": "code",
   "execution_count": null,
   "metadata": {},
   "outputs": [],
   "source": []
  }
 ],
 "metadata": {
  "kernelspec": {
   "display_name": "Python 3",
   "language": "python",
   "name": "python3"
  },
  "language_info": {
   "codemirror_mode": {
    "name": "ipython",
    "version": 3
   },
   "file_extension": ".py",
   "mimetype": "text/x-python",
   "name": "python",
   "nbconvert_exporter": "python",
   "pygments_lexer": "ipython3",
   "version": "3.7.6"
  }
 },
 "nbformat": 4,
 "nbformat_minor": 4
}
